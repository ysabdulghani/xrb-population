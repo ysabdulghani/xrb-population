{
 "cells": [
  {
   "cell_type": "code",
   "execution_count": 10,
   "metadata": {},
   "outputs": [
    {
     "data": {
      "image/png": "[encoded data removed]",
      "text/plain": [
       "<Figure size 720x576 with 2 Axes>"
      ]
     },
     "metadata": {
      "needs_background": "light"
     },
     "output_type": "display_data"
    }
   ],
   "source": [
    "import pandas as pd\n",
    "import matplotlib.pyplot as plt\n",
    "import seaborn as sns\n",
    "from glob import glob\n",
    "import re\n",
    "import numpy as np\n",
    "\n",
    "# Define the pattern to match the CSV files\n",
    "file_pattern = '/disk/data/youssef/scripts/xrb-population/results/*.csv'\n",
    "csv_files = [file for file in glob(file_pattern) if \"full\" not in file]\n",
    "\n",
    "# Function to extract parameter values from filenames\n",
    "def extract_parameters(filename):\n",
    "    pattern = r'table_g(?P<g>\\d+\\.\\d+)_T(?P<T>\\d+\\.\\d+)_a(?P<a>\\d+\\.\\d+)_m(?P<m>\\d+\\.\\d+)_i(?P<i>\\d+\\.\\d+)_r(?P<r>\\d+\\.\\d+)_e(?P<e>\\d+\\.\\d+)\\.csv'\n",
    "    match = re.search(pattern, filename)\n",
    "    if match:\n",
    "        return {key: float(value) for key, value in match.groupdict().items()}\n",
    "    else:\n",
    "        return None\n",
    "\n",
    "# List to store summary statistics\n",
    "summary_data = []\n",
    "\n",
    "# Process each file\n",
    "for file in csv_files:\n",
    "    parameters = extract_parameters(file)\n",
    "    if parameters:\n",
    "        df = pd.read_csv(file)\n",
    "        # Calculate the max frac_uncert for the current file\n",
    "        if 'frac_uncert' in df.columns:\n",
    "            # Replace frac_uncert values greater than 1 with NaN\n",
    "            df['frac_uncert'] = df['frac_uncert'].apply(lambda x: 2 if x > 1 else x)\n",
    "            max_frac_uncert = df['frac_uncert'].max()\n",
    "            # Create a dictionary combining parameters and the calculated max_frac_uncert\n",
    "            summary_record = parameters.copy()\n",
    "            summary_record['max_frac_uncert'] = max_frac_uncert\n",
    "            summary_data.append(summary_record)\n",
    "\n",
    "# Create a summary DataFrame\n",
    "summary_df = pd.DataFrame(summary_data)\n",
    "\n",
    "# Ensure summary_df contains the 'max_frac_uncert' column\n",
    "if 'max_frac_uncert' not in summary_df.columns:\n",
    "    raise ValueError(\"The 'max_frac_uncert' column is missing from the summary DataFrame\")\n",
    "\n",
    "# Example visualization: Heatmap of max_frac_uncert for g and T\n",
    "heatmap_data = summary_df.pivot_table(index='i', columns='a', values='max_frac_uncert')\n",
    "\n",
    "# Plot the heatmap\n",
    "plt.figure(figsize=(10, 8))\n",
    "sns.heatmap(heatmap_data, annot=True, fmt=\".2f\", cmap=\"YlGnBu\", cbar_kws={'label': 'max Frac Uncert'})\n",
    "plt.title(\"Heatmap of max Frac Uncert for Different g and T Values\")\n",
    "plt.xlabel(\"T\")\n",
    "plt.ylabel(\"g\")\n",
    "plt.show()\n"
   ]
  },
  {
   "cell_type": "code",
   "execution_count": 12,
   "metadata": {},
   "outputs": [
    {
     "data": {
      "application/vnd.plotly.v1+json": {
       "config": {
        "plotlyServerURL": "https://plot.ly"
       },
       "data": [
        {
         "dimensions": [
          {
           "axis": {
            "matches": true
           },
           "label": "g",
           "values": [
            2.3,
            2.3,
            2.3,
            2.3,
            2.3,
            2.3,
            2.3,
            2.3,
            1.7,
            1.7,
            1.7,
            1.7,
            1.7,
            1.7,
            1.7,
            3,
            1.7,
            3,
            1.7,
            3,
            3,
            1.7,
            3,
            3,
            3,
            3,
            3,
            3,
            1.7,
            1.7,
            1.7,
            1.7,
            1.7,
            1.7,
            1.7,
            1.7,
            1.7,
            1.7,
            1.7,
            1.7,
            3,
            3,
            3,
            3,
            3,
            3,
            3,
            3,
            3,
            3,
            3,
            3,
            1.7,
            1.7,
            1.7,
            1.7,
            1.7,
            1.7,
            1.7,
            1.7,
            1.7,
            1.7,
            1.7,
            1.7,
            1.7,
            1.7,
            1.7,
            3,
            3,
            3,
            3,
            3,
            3,
            3,
            3,
            3,
            3,
            3,
            3,
            3,
            3,
            3,
            1.7,
            1.7,
            1.7,
            1.7,
            1.7,
            1.7,
            1.7,
            1.7,
            1.7,
            1.7,
            1.7,
            1.7,
            1.7,
            1.7
           ]
          },
          {
           "axis": {
            "matches": true
           },
           "label": "T",
           "values": [
            0.7,
            0.7,
            0.7,
            0.7,
            0.7,
            0.7,
            0.7,
            0.7,
            0.7,
            0.7,
            0.7,
            0.7,
            0.7,
            0.7,
            0.7,
            0.7,
            0.7,
            0.7,
            0.7,
            0.7,
            0.7,
            0.7,
            0.7,
            0.7,
            0.7,
            0.7,
            0.7,
            0.7,
            0.7,
            0.3,
            0.3,
            0.7,
            0.3,
            0.7,
            0.7,
            1,
            0.7,
            1,
            0.7,
            1,
            0.7,
            0.3,
            0.7,
            0.3,
            0.7,
            0.3,
            0.7,
            1,
            0.7,
            1,
            0.7,
            1,
            0.3,
            0.3,
            0.3,
            0.3,
            0.3,
            0.3,
            0.7,
            0.3,
            0.7,
            0.3,
            1,
            0.3,
            1,
            0.3,
            1,
            0.3,
            0.3,
            0.3,
            0.3,
            0.3,
            0.3,
            0.7,
            0.3,
            0.7,
            0.3,
            1,
            0.3,
            1,
            0.3,
            1,
            0.3,
            0.3,
            0.3,
            0.3,
            0.3,
            0.3,
            0.7,
            0.3,
            0.7,
            0.3,
            0.7,
            0.3,
            0.3,
            0.3
           ]
          },
          {
           "axis": {
            "matches": true
           },
           "label": "a",
           "values": [
            0,
            0,
            0,
            0.998,
            0.998,
            0.998,
            0.998,
            0.998,
            0,
            0,
            0,
            0.998,
            0.998,
            0,
            0.998,
            0,
            0,
            0,
            0.998,
            0,
            0.998,
            0.998,
            0,
            0.998,
            0.998,
            0,
            0.998,
            0.998,
            0,
            0,
            0,
            0,
            0,
            0,
            0,
            0,
            0,
            0,
            0,
            0,
            0,
            0,
            0,
            0,
            0,
            0,
            0,
            0,
            0,
            0,
            0,
            0,
            0,
            0,
            0,
            0,
            0,
            0,
            0,
            0,
            0,
            0,
            0,
            0,
            0,
            0,
            0,
            0,
            0,
            0,
            0,
            0,
            0,
            0,
            0,
            0,
            0,
            0,
            0,
            0,
            0,
            0,
            0,
            0,
            0,
            0,
            0,
            0,
            0,
            0,
            0,
            0,
            0,
            0,
            0,
            0
           ]
          },
          {
           "axis": {
            "matches": true
           },
           "label": "m",
           "values": [
            8,
            8,
            8,
            8,
            8,
            8,
            8,
            8,
            8,
            8,
            8,
            8,
            8,
            6,
            8,
            8,
            10,
            8,
            6,
            8,
            8,
            10,
            6,
            8,
            8,
            10,
            6,
            10,
            6,
            8,
            8,
            8,
            8,
            10,
            6,
            8,
            8,
            8,
            10,
            8,
            6,
            8,
            8,
            8,
            10,
            8,
            6,
            8,
            8,
            8,
            10,
            8,
            6,
            8,
            8,
            10,
            8,
            6,
            8,
            10,
            8,
            6,
            8,
            8,
            8,
            10,
            8,
            6,
            8,
            8,
            10,
            8,
            6,
            8,
            10,
            8,
            6,
            8,
            8,
            8,
            10,
            8,
            6,
            8,
            8,
            10,
            8,
            6,
            8,
            8,
            8,
            10,
            8,
            6,
            8,
            10
           ]
          },
          {
           "axis": {
            "matches": true
           },
           "label": "i",
           "values": [
            60,
            60,
            80,
            80,
            60,
            60,
            80,
            0,
            0,
            60,
            80,
            0,
            60,
            0,
            80,
            0,
            0,
            60,
            0,
            80,
            0,
            0,
            0,
            60,
            80,
            0,
            0,
            0,
            0,
            0,
            60,
            0,
            80,
            0,
            0,
            0,
            0,
            60,
            0,
            80,
            0,
            0,
            0,
            60,
            0,
            80,
            0,
            0,
            0,
            60,
            0,
            80,
            0,
            0,
            60,
            0,
            80,
            0,
            60,
            0,
            80,
            0,
            0,
            0,
            60,
            0,
            80,
            0,
            0,
            60,
            0,
            80,
            0,
            60,
            0,
            80,
            0,
            0,
            0,
            60,
            0,
            80,
            0,
            0,
            60,
            0,
            80,
            0,
            0,
            0,
            60,
            0,
            80,
            0,
            0,
            0
           ]
          },
          {
           "axis": {
            "matches": true
           },
           "label": "r",
           "values": [
            0.7,
            0.5,
            0.7,
            0.7,
            0.7,
            0.5,
            0.5,
            0.7,
            0.7,
            0.7,
            0.7,
            0.7,
            0.7,
            0.7,
            0.7,
            0.7,
            0.7,
            0.7,
            0.7,
            0.7,
            0.7,
            0.7,
            0.7,
            0.7,
            0.7,
            0.7,
            0.7,
            0.7,
            0.2,
            0.7,
            0.7,
            0.2,
            0.7,
            0.2,
            0.9,
            0.7,
            0.9,
            0.7,
            0.9,
            0.7,
            0.2,
            0.7,
            0.2,
            0.7,
            0.2,
            0.7,
            0.9,
            0.7,
            0.9,
            0.7,
            0.9,
            0.7,
            0.2,
            0.2,
            0.2,
            0.2,
            0.2,
            0.7,
            0.2,
            0.7,
            0.2,
            0.9,
            0.2,
            0.9,
            0.2,
            0.9,
            0.2,
            0.2,
            0.2,
            0.2,
            0.2,
            0.2,
            0.7,
            0.2,
            0.7,
            0.2,
            0.9,
            0.2,
            0.9,
            0.2,
            0.9,
            0.2,
            0.2,
            0.2,
            0.2,
            0.2,
            0.2,
            0.7,
            0.2,
            0.7,
            0.2,
            0.7,
            0.2,
            0.9,
            0.9,
            0.9
           ]
          },
          {
           "axis": {
            "matches": true
           },
           "label": "e",
           "values": [
            1000,
            1000,
            1000,
            1000,
            1000,
            1000,
            1000,
            1000,
            1000,
            1000,
            1000,
            1000,
            1000,
            1000,
            1000,
            1000,
            1000,
            1000,
            1000,
            1000,
            1000,
            1000,
            1000,
            1000,
            1000,
            1000,
            1000,
            1000,
            1000,
            1000,
            1000,
            1000,
            1000,
            1000,
            1000,
            1000,
            1000,
            1000,
            1000,
            1000,
            1000,
            1000,
            1000,
            1000,
            1000,
            1000,
            1000,
            1000,
            1000,
            1000,
            1000,
            1000,
            1000,
            1000,
            1000,
            1000,
            1000,
            1000,
            1000,
            1000,
            1000,
            1000,
            1000,
            1000,
            1000,
            1000,
            1000,
            1000,
            1000,
            1000,
            1000,
            1000,
            1000,
            1000,
            1000,
            1000,
            1000,
            1000,
            1000,
            1000,
            1000,
            1000,
            400,
            400,
            400,
            400,
            400,
            400,
            400,
            400,
            400,
            400,
            400,
            400,
            400,
            400
           ]
          },
          {
           "axis": {
            "matches": true
           },
           "label": "max_frac_uncert",
           "values": [
            2,
            2,
            0.1564840429049387,
            0.1349223225141821,
            0.1907324718280326,
            2,
            0.181588091934388,
            0.1197095227578337,
            0.14623436931524,
            0.1735994095099158,
            0.1599008810866646,
            0.1571530775773053,
            0.0953369989294963,
            0.1512078117767042,
            0.0923862208322212,
            0.1088735271811409,
            0.101435718238307,
            0.0985321475181166,
            0.1138041632890951,
            0.1112043844202781,
            0.0727313744469633,
            0.1306120846254896,
            0.1211634982325247,
            0.0652468085584856,
            0.0771027130693117,
            0.0611300724705654,
            0.0720659667763508,
            0.1061118609653184,
            2,
            2,
            2,
            2,
            2,
            0.6004303061977698,
            0.0902316073987282,
            0.1860419909140773,
            0.1203173321982382,
            0.1794767623033918,
            0.0745483593991945,
            0.1774415987818599,
            0.0651950844612185,
            0.2195710315985293,
            0.067741241865928,
            2,
            0.0654905068505119,
            2,
            0.051438508993311,
            0.0010024180389698,
            0.0521657649786873,
            -0.0010909227067776,
            0.037118782107495,
            -0.0171316618329526,
            0.2457004863952602,
            0.5458051051376613,
            -0.1186198736307638,
            0.1842697433337705,
            2,
            2,
            2,
            0.1524605723014134,
            2,
            0.268527866872802,
            0.2450613202235555,
            0.1068039021160491,
            2,
            2,
            0.7091358294774115,
            2,
            2,
            2,
            2,
            0.7588137643118333,
            0.296013608535147,
            0.0597713503630457,
            0.2667212029483676,
            0.0761047759060158,
            0.2207695142687067,
            0.0191145921807307,
            0.1862628532091028,
            0.0216698343557173,
            0.1684617993043833,
            0.0164372670853265,
            2,
            2,
            2,
            2,
            2,
            2,
            0.4659464482154074,
            2,
            2,
            0.1912343275183685,
            2,
            2,
            2,
            2
           ]
          }
         ],
         "hovertemplate": "%{xaxis.title.text}=%{x}<br>%{yaxis.title.text}=%{y}<extra></extra>",
         "legendgroup": "",
         "marker": {
          "color": "#636efa",
          "symbol": "circle"
         },
         "name": "",
         "showlegend": false,
         "type": "splom"
        }
       ],
       "layout": {
        "dragmode": "select",
        "height": 1200,
        "legend": {
         "tracegroupgap": 0
        },
        "margin": {
         "t": 60
        },
        "template": {
         "data": {
          "bar": [
           {
            "error_x": {
             "color": "#2a3f5f"
            },
            "error_y": {
             "color": "#2a3f5f"
            },
            "marker": {
             "line": {
              "color": "#E5ECF6",
              "width": 0.5
             },
             "pattern": {
              "fillmode": "overlay",
              "size": 10,
              "solidity": 0.2
             }
            },
            "type": "bar"
           }
          ],
          "barpolar": [
           {
            "marker": {
             "line": {
              "color": "#E5ECF6",
              "width": 0.5
             },
             "pattern": {
              "fillmode": "overlay",
              "size": 10,
              "solidity": 0.2
             }
            },
            "type": "barpolar"
           }
          ],
          "carpet": [
           {
            "aaxis": {
             "endlinecolor": "#2a3f5f",
             "gridcolor": "white",
             "linecolor": "white",
             "minorgridcolor": "white",
             "startlinecolor": "#2a3f5f"
            },
            "baxis": {
             "endlinecolor": "#2a3f5f",
             "gridcolor": "white",
             "linecolor": "white",
             "minorgridcolor": "white",
             "startlinecolor": "#2a3f5f"
            },
            "type": "carpet"
           }
          ],
          "choropleth": [
           {
            "colorbar": {
             "outlinewidth": 0,
             "ticks": ""
            },
            "type": "choropleth"
           }
          ],
          "contour": [
           {
            "colorbar": {
             "outlinewidth": 0,
             "ticks": ""
            },
            "colorscale": [
             [
              0,
              "#0d0887"
             ],
             [
              0.1111111111111111,
              "#46039f"
             ],
             [
              0.2222222222222222,
              "#7201a8"
             ],
             [
              0.3333333333333333,
              "#9c179e"
             ],
             [
              0.4444444444444444,
              "#bd3786"
             ],
             [
              0.5555555555555556,
              "#d8576b"
             ],
             [
              0.6666666666666666,
              "#ed7953"
             ],
             [
              0.7777777777777778,
              "#fb9f3a"
             ],
             [
              0.8888888888888888,
              "#fdca26"
             ],
             [
              1,
              "#f0f921"
             ]
            ],
            "type": "contour"
           }
          ],
          "contourcarpet": [
           {
            "colorbar": {
             "outlinewidth": 0,
             "ticks": ""
            },
            "type": "contourcarpet"
           }
          ],
          "heatmap": [
           {
            "colorbar": {
             "outlinewidth": 0,
             "ticks": ""
            },
            "colorscale": [
             [
              0,
              "#0d0887"
             ],
             [
              0.1111111111111111,
              "#46039f"
             ],
             [
              0.2222222222222222,
              "#7201a8"
             ],
             [
              0.3333333333333333,
              "#9c179e"
             ],
             [
              0.4444444444444444,
              "#bd3786"
             ],
             [
              0.5555555555555556,
              "#d8576b"
             ],
             [
              0.6666666666666666,
              "#ed7953"
             ],
             [
              0.7777777777777778,
              "#fb9f3a"
             ],
             [
              0.8888888888888888,
              "#fdca26"
             ],
             [
              1,
              "#f0f921"
             ]
            ],
            "type": "heatmap"
           }
          ],
          "heatmapgl": [
           {
            "colorbar": {
             "outlinewidth": 0,
             "ticks": ""
            },
            "colorscale": [
             [
              0,
              "#0d0887"
             ],
             [
              0.1111111111111111,
              "#46039f"
             ],
             [
              0.2222222222222222,
              "#7201a8"
             ],
             [
              0.3333333333333333,
              "#9c179e"
             ],
             [
              0.4444444444444444,
              "#bd3786"
             ],
             [
              0.5555555555555556,
              "#d8576b"
             ],
             [
              0.6666666666666666,
              "#ed7953"
             ],
             [
              0.7777777777777778,
              "#fb9f3a"
             ],
             [
              0.8888888888888888,
              "#fdca26"
             ],
             [
              1,
              "#f0f921"
             ]
            ],
            "type": "heatmapgl"
           }
          ],
          "histogram": [
           {
            "marker": {
             "pattern": {
              "fillmode": "overlay",
              "size": 10,
              "solidity": 0.2
             }
            },
            "type": "histogram"
           }
          ],
          "histogram2d": [
           {
            "colorbar": {
             "outlinewidth": 0,
             "ticks": ""
            },
            "colorscale": [
             [
              0,
              "#0d0887"
             ],
             [
              0.1111111111111111,
              "#46039f"
             ],
             [
              0.2222222222222222,
              "#7201a8"
             ],
             [
              0.3333333333333333,
              "#9c179e"
             ],
             [
              0.4444444444444444,
              "#bd3786"
             ],
             [
              0.5555555555555556,
              "#d8576b"
             ],
             [
              0.6666666666666666,
              "#ed7953"
             ],
             [
              0.7777777777777778,
              "#fb9f3a"
             ],
             [
              0.8888888888888888,
              "#fdca26"
             ],
             [
              1,
              "#f0f921"
             ]
            ],
            "type": "histogram2d"
           }
          ],
          "histogram2dcontour": [
           {
            "colorbar": {
             "outlinewidth": 0,
             "ticks": ""
            },
            "colorscale": [
             [
              0,
              "#0d0887"
             ],
             [
              0.1111111111111111,
              "#46039f"
             ],
             [
              0.2222222222222222,
              "#7201a8"
             ],
             [
              0.3333333333333333,
              "#9c179e"
             ],
             [
              0.4444444444444444,
              "#bd3786"
             ],
             [
              0.5555555555555556,
              "#d8576b"
             ],
             [
              0.6666666666666666,
              "#ed7953"
             ],
             [
              0.7777777777777778,
              "#fb9f3a"
             ],
             [
              0.8888888888888888,
              "#fdca26"
             ],
             [
              1,
              "#f0f921"
             ]
            ],
            "type": "histogram2dcontour"
           }
          ],
          "mesh3d": [
           {
            "colorbar": {
             "outlinewidth": 0,
             "ticks": ""
            },
            "type": "mesh3d"
           }
          ],
          "parcoords": [
           {
            "line": {
             "colorbar": {
              "outlinewidth": 0,
              "ticks": ""
             }
            },
            "type": "parcoords"
           }
          ],
          "pie": [
           {
            "automargin": true,
            "type": "pie"
           }
          ],
          "scatter": [
           {
            "marker": {
             "colorbar": {
              "outlinewidth": 0,
              "ticks": ""
             }
            },
            "type": "scatter"
           }
          ],
          "scatter3d": [
           {
            "line": {
             "colorbar": {
              "outlinewidth": 0,
              "ticks": ""
             }
            },
            "marker": {
             "colorbar": {
              "outlinewidth": 0,
              "ticks": ""
             }
            },
            "type": "scatter3d"
           }
          ],
          "scattercarpet": [
           {
            "marker": {
             "colorbar": {
              "outlinewidth": 0,
              "ticks": ""
             }
            },
            "type": "scattercarpet"
           }
          ],
          "scattergeo": [
           {
            "marker": {
             "colorbar": {
              "outlinewidth": 0,
              "ticks": ""
             }
            },
            "type": "scattergeo"
           }
          ],
          "scattergl": [
           {
            "marker": {
             "colorbar": {
              "outlinewidth": 0,
              "ticks": ""
             }
            },
            "type": "scattergl"
           }
          ],
          "scattermapbox": [
           {
            "marker": {
             "colorbar": {
              "outlinewidth": 0,
              "ticks": ""
             }
            },
            "type": "scattermapbox"
           }
          ],
          "scatterpolar": [
           {
            "marker": {
             "colorbar": {
              "outlinewidth": 0,
              "ticks": ""
             }
            },
            "type": "scatterpolar"
           }
          ],
          "scatterpolargl": [
           {
            "marker": {
             "colorbar": {
              "outlinewidth": 0,
              "ticks": ""
             }
            },
            "type": "scatterpolargl"
           }
          ],
          "scatterternary": [
           {
            "marker": {
             "colorbar": {
              "outlinewidth": 0,
              "ticks": ""
             }
            },
            "type": "scatterternary"
           }
          ],
          "surface": [
           {
            "colorbar": {
             "outlinewidth": 0,
             "ticks": ""
            },
            "colorscale": [
             [
              0,
              "#0d0887"
             ],
             [
              0.1111111111111111,
              "#46039f"
             ],
             [
              0.2222222222222222,
              "#7201a8"
             ],
             [
              0.3333333333333333,
              "#9c179e"
             ],
             [
              0.4444444444444444,
              "#bd3786"
             ],
             [
              0.5555555555555556,
              "#d8576b"
             ],
             [
              0.6666666666666666,
              "#ed7953"
             ],
             [
              0.7777777777777778,
              "#fb9f3a"
             ],
             [
              0.8888888888888888,
              "#fdca26"
             ],
             [
              1,
              "#f0f921"
             ]
            ],
            "type": "surface"
           }
          ],
          "table": [
           {
            "cells": {
             "fill": {
              "color": "#EBF0F8"
             },
             "line": {
              "color": "white"
             }
            },
            "header": {
             "fill": {
              "color": "#C8D4E3"
             },
             "line": {
              "color": "white"
             }
            },
            "type": "table"
           }
          ]
         },
         "layout": {
          "annotationdefaults": {
           "arrowcolor": "#2a3f5f",
           "arrowhead": 0,
           "arrowwidth": 1
          },
          "autotypenumbers": "strict",
          "coloraxis": {
           "colorbar": {
            "outlinewidth": 0,
            "ticks": ""
           }
          },
          "colorscale": {
           "diverging": [
            [
             0,
             "#8e0152"
            ],
            [
             0.1,
             "#c51b7d"
            ],
            [
             0.2,
             "#de77ae"
            ],
            [
             0.3,
             "#f1b6da"
            ],
            [
             0.4,
             "#fde0ef"
            ],
            [
             0.5,
             "#f7f7f7"
            ],
            [
             0.6,
             "#e6f5d0"
            ],
            [
             0.7,
             "#b8e186"
            ],
            [
             0.8,
             "#7fbc41"
            ],
            [
             0.9,
             "#4d9221"
            ],
            [
             1,
             "#276419"
            ]
           ],
           "sequential": [
            [
             0,
             "#0d0887"
            ],
            [
             0.1111111111111111,
             "#46039f"
            ],
            [
             0.2222222222222222,
             "#7201a8"
            ],
            [
             0.3333333333333333,
             "#9c179e"
            ],
            [
             0.4444444444444444,
             "#bd3786"
            ],
            [
             0.5555555555555556,
             "#d8576b"
            ],
            [
             0.6666666666666666,
             "#ed7953"
            ],
            [
             0.7777777777777778,
             "#fb9f3a"
            ],
            [
             0.8888888888888888,
             "#fdca26"
            ],
            [
             1,
             "#f0f921"
            ]
           ],
           "sequentialminus": [
            [
             0,
             "#0d0887"
            ],
            [
             0.1111111111111111,
             "#46039f"
            ],
            [
             0.2222222222222222,
             "#7201a8"
            ],
            [
             0.3333333333333333,
             "#9c179e"
            ],
            [
             0.4444444444444444,
             "#bd3786"
            ],
            [
             0.5555555555555556,
             "#d8576b"
            ],
            [
             0.6666666666666666,
             "#ed7953"
            ],
            [
             0.7777777777777778,
             "#fb9f3a"
            ],
            [
             0.8888888888888888,
             "#fdca26"
            ],
            [
             1,
             "#f0f921"
            ]
           ]
          },
          "colorway": [
           "#636efa",
           "#EF553B",
           "#00cc96",
           "#ab63fa",
           "#FFA15A",
           "#19d3f3",
           "#FF6692",
           "#B6E880",
           "#FF97FF",
           "#FECB52"
          ],
          "font": {
           "color": "#2a3f5f"
          },
          "geo": {
           "bgcolor": "white",
           "lakecolor": "white",
           "landcolor": "#E5ECF6",
           "showlakes": true,
           "showland": true,
           "subunitcolor": "white"
          },
          "hoverlabel": {
           "align": "left"
          },
          "hovermode": "closest",
          "mapbox": {
           "style": "light"
          },
          "paper_bgcolor": "white",
          "plot_bgcolor": "#E5ECF6",
          "polar": {
           "angularaxis": {
            "gridcolor": "white",
            "linecolor": "white",
            "ticks": ""
           },
           "bgcolor": "#E5ECF6",
           "radialaxis": {
            "gridcolor": "white",
            "linecolor": "white",
            "ticks": ""
           }
          },
          "scene": {
           "xaxis": {
            "backgroundcolor": "#E5ECF6",
            "gridcolor": "white",
            "gridwidth": 2,
            "linecolor": "white",
            "showbackground": true,
            "ticks": "",
            "zerolinecolor": "white"
           },
           "yaxis": {
            "backgroundcolor": "#E5ECF6",
            "gridcolor": "white",
            "gridwidth": 2,
            "linecolor": "white",
            "showbackground": true,
            "ticks": "",
            "zerolinecolor": "white"
           },
           "zaxis": {
            "backgroundcolor": "#E5ECF6",
            "gridcolor": "white",
            "gridwidth": 2,
            "linecolor": "white",
            "showbackground": true,
            "ticks": "",
            "zerolinecolor": "white"
           }
          },
          "shapedefaults": {
           "line": {
            "color": "#2a3f5f"
           }
          },
          "ternary": {
           "aaxis": {
            "gridcolor": "white",
            "linecolor": "white",
            "ticks": ""
           },
           "baxis": {
            "gridcolor": "white",
            "linecolor": "white",
            "ticks": ""
           },
           "bgcolor": "#E5ECF6",
           "caxis": {
            "gridcolor": "white",
            "linecolor": "white",
            "ticks": ""
           }
          },
          "title": {
           "x": 0.05
          },
          "xaxis": {
           "automargin": true,
           "gridcolor": "white",
           "linecolor": "white",
           "ticks": "",
           "title": {
            "standoff": 15
           },
           "zerolinecolor": "white",
           "zerolinewidth": 2
          },
          "yaxis": {
           "automargin": true,
           "gridcolor": "white",
           "linecolor": "white",
           "ticks": "",
           "title": {
            "standoff": 15
           },
           "zerolinecolor": "white",
           "zerolinewidth": 2
          }
         }
        },
        "width": 1200
       }
      },
      "text/html": [
       "<div>                            <div id=\"c9128617-be2c-4186-adde-5614fe7007d4\" class=\"plotly-graph-div\" style=\"height:1200px; width:1200px;\"></div>            <script type=\"text/javascript\">                require([\"plotly\"], function(Plotly) {                    window.PLOTLYENV=window.PLOTLYENV || {};                                    if (document.getElementById(\"c9128617-be2c-4186-adde-5614fe7007d4\")) {                    Plotly.newPlot(                        \"c9128617-be2c-4186-adde-5614fe7007d4\",                        [{\"dimensions\":[{\"axis\":{\"matches\":true},\"label\":\"g\",\"values\":[2.3,2.3,2.3,2.3,2.3,2.3,2.3,2.3,1.7,1.7,1.7,1.7,1.7,1.7,1.7,3.0,1.7,3.0,1.7,3.0,3.0,1.7,3.0,3.0,3.0,3.0,3.0,3.0,1.7,1.7,1.7,1.7,1.7,1.7,1.7,1.7,1.7,1.7,1.7,1.7,3.0,3.0,3.0,3.0,3.0,3.0,3.0,3.0,3.0,3.0,3.0,3.0,1.7,1.7,1.7,1.7,1.7,1.7,1.7,1.7,1.7,1.7,1.7,1.7,1.7,1.7,1.7,3.0,3.0,3.0,3.0,3.0,3.0,3.0,3.0,3.0,3.0,3.0,3.0,3.0,3.0,3.0,1.7,1.7,1.7,1.7,1.7,1.7,1.7,1.7,1.7,1.7,1.7,1.7,1.7,1.7]},{\"axis\":{\"matches\":true},\"label\":\"T\",\"values\":[0.7,0.7,0.7,0.7,0.7,0.7,0.7,0.7,0.7,0.7,0.7,0.7,0.7,0.7,0.7,0.7,0.7,0.7,0.7,0.7,0.7,0.7,0.7,0.7,0.7,0.7,0.7,0.7,0.7,0.3,0.3,0.7,0.3,0.7,0.7,1.0,0.7,1.0,0.7,1.0,0.7,0.3,0.7,0.3,0.7,0.3,0.7,1.0,0.7,1.0,0.7,1.0,0.3,0.3,0.3,0.3,0.3,0.3,0.7,0.3,0.7,0.3,1.0,0.3,1.0,0.3,1.0,0.3,0.3,0.3,0.3,0.3,0.3,0.7,0.3,0.7,0.3,1.0,0.3,1.0,0.3,1.0,0.3,0.3,0.3,0.3,0.3,0.3,0.7,0.3,0.7,0.3,0.7,0.3,0.3,0.3]},{\"axis\":{\"matches\":true},\"label\":\"a\",\"values\":[0.0,0.0,0.0,0.998,0.998,0.998,0.998,0.998,0.0,0.0,0.0,0.998,0.998,0.0,0.998,0.0,0.0,0.0,0.998,0.0,0.998,0.998,0.0,0.998,0.998,0.0,0.998,0.998,0.0,0.0,0.0,0.0,0.0,0.0,0.0,0.0,0.0,0.0,0.0,0.0,0.0,0.0,0.0,0.0,0.0,0.0,0.0,0.0,0.0,0.0,0.0,0.0,0.0,0.0,0.0,0.0,0.0,0.0,0.0,0.0,0.0,0.0,0.0,0.0,0.0,0.0,0.0,0.0,0.0,0.0,0.0,0.0,0.0,0.0,0.0,0.0,0.0,0.0,0.0,0.0,0.0,0.0,0.0,0.0,0.0,0.0,0.0,0.0,0.0,0.0,0.0,0.0,0.0,0.0,0.0,0.0]},{\"axis\":{\"matches\":true},\"label\":\"m\",\"values\":[8.0,8.0,8.0,8.0,8.0,8.0,8.0,8.0,8.0,8.0,8.0,8.0,8.0,6.0,8.0,8.0,10.0,8.0,6.0,8.0,8.0,10.0,6.0,8.0,8.0,10.0,6.0,10.0,6.0,8.0,8.0,8.0,8.0,10.0,6.0,8.0,8.0,8.0,10.0,8.0,6.0,8.0,8.0,8.0,10.0,8.0,6.0,8.0,8.0,8.0,10.0,8.0,6.0,8.0,8.0,10.0,8.0,6.0,8.0,10.0,8.0,6.0,8.0,8.0,8.0,10.0,8.0,6.0,8.0,8.0,10.0,8.0,6.0,8.0,10.0,8.0,6.0,8.0,8.0,8.0,10.0,8.0,6.0,8.0,8.0,10.0,8.0,6.0,8.0,8.0,8.0,10.0,8.0,6.0,8.0,10.0]},{\"axis\":{\"matches\":true},\"label\":\"i\",\"values\":[60.0,60.0,80.0,80.0,60.0,60.0,80.0,0.0,0.0,60.0,80.0,0.0,60.0,0.0,80.0,0.0,0.0,60.0,0.0,80.0,0.0,0.0,0.0,60.0,80.0,0.0,0.0,0.0,0.0,0.0,60.0,0.0,80.0,0.0,0.0,0.0,0.0,60.0,0.0,80.0,0.0,0.0,0.0,60.0,0.0,80.0,0.0,0.0,0.0,60.0,0.0,80.0,0.0,0.0,60.0,0.0,80.0,0.0,60.0,0.0,80.0,0.0,0.0,0.0,60.0,0.0,80.0,0.0,0.0,60.0,0.0,80.0,0.0,60.0,0.0,80.0,0.0,0.0,0.0,60.0,0.0,80.0,0.0,0.0,60.0,0.0,80.0,0.0,0.0,0.0,60.0,0.0,80.0,0.0,0.0,0.0]},{\"axis\":{\"matches\":true},\"label\":\"r\",\"values\":[0.7,0.5,0.7,0.7,0.7,0.5,0.5,0.7,0.7,0.7,0.7,0.7,0.7,0.7,0.7,0.7,0.7,0.7,0.7,0.7,0.7,0.7,0.7,0.7,0.7,0.7,0.7,0.7,0.2,0.7,0.7,0.2,0.7,0.2,0.9,0.7,0.9,0.7,0.9,0.7,0.2,0.7,0.2,0.7,0.2,0.7,0.9,0.7,0.9,0.7,0.9,0.7,0.2,0.2,0.2,0.2,0.2,0.7,0.2,0.7,0.2,0.9,0.2,0.9,0.2,0.9,0.2,0.2,0.2,0.2,0.2,0.2,0.7,0.2,0.7,0.2,0.9,0.2,0.9,0.2,0.9,0.2,0.2,0.2,0.2,0.2,0.2,0.7,0.2,0.7,0.2,0.7,0.2,0.9,0.9,0.9]},{\"axis\":{\"matches\":true},\"label\":\"e\",\"values\":[1000.0,1000.0,1000.0,1000.0,1000.0,1000.0,1000.0,1000.0,1000.0,1000.0,1000.0,1000.0,1000.0,1000.0,1000.0,1000.0,1000.0,1000.0,1000.0,1000.0,1000.0,1000.0,1000.0,1000.0,1000.0,1000.0,1000.0,1000.0,1000.0,1000.0,1000.0,1000.0,1000.0,1000.0,1000.0,1000.0,1000.0,1000.0,1000.0,1000.0,1000.0,1000.0,1000.0,1000.0,1000.0,1000.0,1000.0,1000.0,1000.0,1000.0,1000.0,1000.0,1000.0,1000.0,1000.0,1000.0,1000.0,1000.0,1000.0,1000.0,1000.0,1000.0,1000.0,1000.0,1000.0,1000.0,1000.0,1000.0,1000.0,1000.0,1000.0,1000.0,1000.0,1000.0,1000.0,1000.0,1000.0,1000.0,1000.0,1000.0,1000.0,1000.0,400.0,400.0,400.0,400.0,400.0,400.0,400.0,400.0,400.0,400.0,400.0,400.0,400.0,400.0]},{\"axis\":{\"matches\":true},\"label\":\"max_frac_uncert\",\"values\":[2.0,2.0,0.1564840429049387,0.1349223225141821,0.1907324718280326,2.0,0.181588091934388,0.1197095227578337,0.14623436931524,0.1735994095099158,0.1599008810866646,0.1571530775773053,0.0953369989294963,0.1512078117767042,0.0923862208322212,0.1088735271811409,0.101435718238307,0.0985321475181166,0.1138041632890951,0.1112043844202781,0.0727313744469633,0.1306120846254896,0.1211634982325247,0.0652468085584856,0.0771027130693117,0.0611300724705654,0.0720659667763508,0.1061118609653184,2.0,2.0,2.0,2.0,2.0,0.6004303061977698,0.0902316073987282,0.1860419909140773,0.1203173321982382,0.1794767623033918,0.0745483593991945,0.1774415987818599,0.0651950844612185,0.2195710315985293,0.067741241865928,2.0,0.0654905068505119,2.0,0.051438508993311,0.0010024180389698,0.0521657649786873,-0.0010909227067776,0.037118782107495,-0.0171316618329526,0.2457004863952602,0.5458051051376613,-0.1186198736307638,0.1842697433337705,2.0,2.0,2.0,0.1524605723014134,2.0,0.268527866872802,0.2450613202235555,0.1068039021160491,2.0,2.0,0.7091358294774115,2.0,2.0,2.0,2.0,0.7588137643118333,0.296013608535147,0.0597713503630457,0.2667212029483676,0.0761047759060158,0.2207695142687067,0.0191145921807307,0.1862628532091028,0.0216698343557173,0.1684617993043833,0.0164372670853265,2.0,2.0,2.0,2.0,2.0,2.0,0.4659464482154074,2.0,2.0,0.1912343275183685,2.0,2.0,2.0,2.0]}],\"hovertemplate\":\"%{xaxis.title.text}=%{x}<br>%{yaxis.title.text}=%{y}<extra></extra>\",\"legendgroup\":\"\",\"marker\":{\"color\":\"#636efa\",\"symbol\":\"circle\"},\"name\":\"\",\"showlegend\":false,\"type\":\"splom\"}],                        {\"template\":{\"data\":{\"bar\":[{\"error_x\":{\"color\":\"#2a3f5f\"},\"error_y\":{\"color\":\"#2a3f5f\"},\"marker\":{\"line\":{\"color\":\"#E5ECF6\",\"width\":0.5},\"pattern\":{\"fillmode\":\"overlay\",\"size\":10,\"solidity\":0.2}},\"type\":\"bar\"}],\"barpolar\":[{\"marker\":{\"line\":{\"color\":\"#E5ECF6\",\"width\":0.5},\"pattern\":{\"fillmode\":\"overlay\",\"size\":10,\"solidity\":0.2}},\"type\":\"barpolar\"}],\"carpet\":[{\"aaxis\":{\"endlinecolor\":\"#2a3f5f\",\"gridcolor\":\"white\",\"linecolor\":\"white\",\"minorgridcolor\":\"white\",\"startlinecolor\":\"#2a3f5f\"},\"baxis\":{\"endlinecolor\":\"#2a3f5f\",\"gridcolor\":\"white\",\"linecolor\":\"white\",\"minorgridcolor\":\"white\",\"startlinecolor\":\"#2a3f5f\"},\"type\":\"carpet\"}],\"choropleth\":[{\"colorbar\":{\"outlinewidth\":0,\"ticks\":\"\"},\"type\":\"choropleth\"}],\"contour\":[{\"colorbar\":{\"outlinewidth\":0,\"ticks\":\"\"},\"colorscale\":[[0.0,\"#0d0887\"],[0.1111111111111111,\"#46039f\"],[0.2222222222222222,\"#7201a8\"],[0.3333333333333333,\"#9c179e\"],[0.4444444444444444,\"#bd3786\"],[0.5555555555555556,\"#d8576b\"],[0.6666666666666666,\"#ed7953\"],[0.7777777777777778,\"#fb9f3a\"],[0.8888888888888888,\"#fdca26\"],[1.0,\"#f0f921\"]],\"type\":\"contour\"}],\"contourcarpet\":[{\"colorbar\":{\"outlinewidth\":0,\"ticks\":\"\"},\"type\":\"contourcarpet\"}],\"heatmap\":[{\"colorbar\":{\"outlinewidth\":0,\"ticks\":\"\"},\"colorscale\":[[0.0,\"#0d0887\"],[0.1111111111111111,\"#46039f\"],[0.2222222222222222,\"#7201a8\"],[0.3333333333333333,\"#9c179e\"],[0.4444444444444444,\"#bd3786\"],[0.5555555555555556,\"#d8576b\"],[0.6666666666666666,\"#ed7953\"],[0.7777777777777778,\"#fb9f3a\"],[0.8888888888888888,\"#fdca26\"],[1.0,\"#f0f921\"]],\"type\":\"heatmap\"}],\"heatmapgl\":[{\"colorbar\":{\"outlinewidth\":0,\"ticks\":\"\"},\"colorscale\":[[0.0,\"#0d0887\"],[0.1111111111111111,\"#46039f\"],[0.2222222222222222,\"#7201a8\"],[0.3333333333333333,\"#9c179e\"],[0.4444444444444444,\"#bd3786\"],[0.5555555555555556,\"#d8576b\"],[0.6666666666666666,\"#ed7953\"],[0.7777777777777778,\"#fb9f3a\"],[0.8888888888888888,\"#fdca26\"],[1.0,\"#f0f921\"]],\"type\":\"heatmapgl\"}],\"histogram\":[{\"marker\":{\"pattern\":{\"fillmode\":\"overlay\",\"size\":10,\"solidity\":0.2}},\"type\":\"histogram\"}],\"histogram2d\":[{\"colorbar\":{\"outlinewidth\":0,\"ticks\":\"\"},\"colorscale\":[[0.0,\"#0d0887\"],[0.1111111111111111,\"#46039f\"],[0.2222222222222222,\"#7201a8\"],[0.3333333333333333,\"#9c179e\"],[0.4444444444444444,\"#bd3786\"],[0.5555555555555556,\"#d8576b\"],[0.6666666666666666,\"#ed7953\"],[0.7777777777777778,\"#fb9f3a\"],[0.8888888888888888,\"#fdca26\"],[1.0,\"#f0f921\"]],\"type\":\"histogram2d\"}],\"histogram2dcontour\":[{\"colorbar\":{\"outlinewidth\":0,\"ticks\":\"\"},\"colorscale\":[[0.0,\"#0d0887\"],[0.1111111111111111,\"#46039f\"],[0.2222222222222222,\"#7201a8\"],[0.3333333333333333,\"#9c179e\"],[0.4444444444444444,\"#bd3786\"],[0.5555555555555556,\"#d8576b\"],[0.6666666666666666,\"#ed7953\"],[0.7777777777777778,\"#fb9f3a\"],[0.8888888888888888,\"#fdca26\"],[1.0,\"#f0f921\"]],\"type\":\"histogram2dcontour\"}],\"mesh3d\":[{\"colorbar\":{\"outlinewidth\":0,\"ticks\":\"\"},\"type\":\"mesh3d\"}],\"parcoords\":[{\"line\":{\"colorbar\":{\"outlinewidth\":0,\"ticks\":\"\"}},\"type\":\"parcoords\"}],\"pie\":[{\"automargin\":true,\"type\":\"pie\"}],\"scatter\":[{\"marker\":{\"colorbar\":{\"outlinewidth\":0,\"ticks\":\"\"}},\"type\":\"scatter\"}],\"scatter3d\":[{\"line\":{\"colorbar\":{\"outlinewidth\":0,\"ticks\":\"\"}},\"marker\":{\"colorbar\":{\"outlinewidth\":0,\"ticks\":\"\"}},\"type\":\"scatter3d\"}],\"scattercarpet\":[{\"marker\":{\"colorbar\":{\"outlinewidth\":0,\"ticks\":\"\"}},\"type\":\"scattercarpet\"}],\"scattergeo\":[{\"marker\":{\"colorbar\":{\"outlinewidth\":0,\"ticks\":\"\"}},\"type\":\"scattergeo\"}],\"scattergl\":[{\"marker\":{\"colorbar\":{\"outlinewidth\":0,\"ticks\":\"\"}},\"type\":\"scattergl\"}],\"scattermapbox\":[{\"marker\":{\"colorbar\":{\"outlinewidth\":0,\"ticks\":\"\"}},\"type\":\"scattermapbox\"}],\"scatterpolar\":[{\"marker\":{\"colorbar\":{\"outlinewidth\":0,\"ticks\":\"\"}},\"type\":\"scatterpolar\"}],\"scatterpolargl\":[{\"marker\":{\"colorbar\":{\"outlinewidth\":0,\"ticks\":\"\"}},\"type\":\"scatterpolargl\"}],\"scatterternary\":[{\"marker\":{\"colorbar\":{\"outlinewidth\":0,\"ticks\":\"\"}},\"type\":\"scatterternary\"}],\"surface\":[{\"colorbar\":{\"outlinewidth\":0,\"ticks\":\"\"},\"colorscale\":[[0.0,\"#0d0887\"],[0.1111111111111111,\"#46039f\"],[0.2222222222222222,\"#7201a8\"],[0.3333333333333333,\"#9c179e\"],[0.4444444444444444,\"#bd3786\"],[0.5555555555555556,\"#d8576b\"],[0.6666666666666666,\"#ed7953\"],[0.7777777777777778,\"#fb9f3a\"],[0.8888888888888888,\"#fdca26\"],[1.0,\"#f0f921\"]],\"type\":\"surface\"}],\"table\":[{\"cells\":{\"fill\":{\"color\":\"#EBF0F8\"},\"line\":{\"color\":\"white\"}},\"header\":{\"fill\":{\"color\":\"#C8D4E3\"},\"line\":{\"color\":\"white\"}},\"type\":\"table\"}]},\"layout\":{\"annotationdefaults\":{\"arrowcolor\":\"#2a3f5f\",\"arrowhead\":0,\"arrowwidth\":1},\"autotypenumbers\":\"strict\",\"coloraxis\":{\"colorbar\":{\"outlinewidth\":0,\"ticks\":\"\"}},\"colorscale\":{\"diverging\":[[0,\"#8e0152\"],[0.1,\"#c51b7d\"],[0.2,\"#de77ae\"],[0.3,\"#f1b6da\"],[0.4,\"#fde0ef\"],[0.5,\"#f7f7f7\"],[0.6,\"#e6f5d0\"],[0.7,\"#b8e186\"],[0.8,\"#7fbc41\"],[0.9,\"#4d9221\"],[1,\"#276419\"]],\"sequential\":[[0.0,\"#0d0887\"],[0.1111111111111111,\"#46039f\"],[0.2222222222222222,\"#7201a8\"],[0.3333333333333333,\"#9c179e\"],[0.4444444444444444,\"#bd3786\"],[0.5555555555555556,\"#d8576b\"],[0.6666666666666666,\"#ed7953\"],[0.7777777777777778,\"#fb9f3a\"],[0.8888888888888888,\"#fdca26\"],[1.0,\"#f0f921\"]],\"sequentialminus\":[[0.0,\"#0d0887\"],[0.1111111111111111,\"#46039f\"],[0.2222222222222222,\"#7201a8\"],[0.3333333333333333,\"#9c179e\"],[0.4444444444444444,\"#bd3786\"],[0.5555555555555556,\"#d8576b\"],[0.6666666666666666,\"#ed7953\"],[0.7777777777777778,\"#fb9f3a\"],[0.8888888888888888,\"#fdca26\"],[1.0,\"#f0f921\"]]},\"colorway\":[\"#636efa\",\"#EF553B\",\"#00cc96\",\"#ab63fa\",\"#FFA15A\",\"#19d3f3\",\"#FF6692\",\"#B6E880\",\"#FF97FF\",\"#FECB52\"],\"font\":{\"color\":\"#2a3f5f\"},\"geo\":{\"bgcolor\":\"white\",\"lakecolor\":\"white\",\"landcolor\":\"#E5ECF6\",\"showlakes\":true,\"showland\":true,\"subunitcolor\":\"white\"},\"hoverlabel\":{\"align\":\"left\"},\"hovermode\":\"closest\",\"mapbox\":{\"style\":\"light\"},\"paper_bgcolor\":\"white\",\"plot_bgcolor\":\"#E5ECF6\",\"polar\":{\"angularaxis\":{\"gridcolor\":\"white\",\"linecolor\":\"white\",\"ticks\":\"\"},\"bgcolor\":\"#E5ECF6\",\"radialaxis\":{\"gridcolor\":\"white\",\"linecolor\":\"white\",\"ticks\":\"\"}},\"scene\":{\"xaxis\":{\"backgroundcolor\":\"#E5ECF6\",\"gridcolor\":\"white\",\"gridwidth\":2,\"linecolor\":\"white\",\"showbackground\":true,\"ticks\":\"\",\"zerolinecolor\":\"white\"},\"yaxis\":{\"backgroundcolor\":\"#E5ECF6\",\"gridcolor\":\"white\",\"gridwidth\":2,\"linecolor\":\"white\",\"showbackground\":true,\"ticks\":\"\",\"zerolinecolor\":\"white\"},\"zaxis\":{\"backgroundcolor\":\"#E5ECF6\",\"gridcolor\":\"white\",\"gridwidth\":2,\"linecolor\":\"white\",\"showbackground\":true,\"ticks\":\"\",\"zerolinecolor\":\"white\"}},\"shapedefaults\":{\"line\":{\"color\":\"#2a3f5f\"}},\"ternary\":{\"aaxis\":{\"gridcolor\":\"white\",\"linecolor\":\"white\",\"ticks\":\"\"},\"baxis\":{\"gridcolor\":\"white\",\"linecolor\":\"white\",\"ticks\":\"\"},\"bgcolor\":\"#E5ECF6\",\"caxis\":{\"gridcolor\":\"white\",\"linecolor\":\"white\",\"ticks\":\"\"}},\"title\":{\"x\":0.05},\"xaxis\":{\"automargin\":true,\"gridcolor\":\"white\",\"linecolor\":\"white\",\"ticks\":\"\",\"title\":{\"standoff\":15},\"zerolinecolor\":\"white\",\"zerolinewidth\":2},\"yaxis\":{\"automargin\":true,\"gridcolor\":\"white\",\"linecolor\":\"white\",\"ticks\":\"\",\"title\":{\"standoff\":15},\"zerolinecolor\":\"white\",\"zerolinewidth\":2}}},\"legend\":{\"tracegroupgap\":0},\"margin\":{\"t\":60},\"dragmode\":\"select\",\"height\":1200,\"width\":1200},                        {\"responsive\": true}                    ).then(function(){\n",
       "                            \n",
       "var gd = document.getElementById('c9128617-be2c-4186-adde-5614fe7007d4');\n",
       "var x = new MutationObserver(function (mutations, observer) {{\n",
       "        var display = window.getComputedStyle(gd).display;\n",
       "        if (!display || display === 'none') {{\n",
       "            console.log([gd, 'removed!']);\n",
       "            Plotly.purge(gd);\n",
       "            observer.disconnect();\n",
       "        }}\n",
       "}});\n",
       "\n",
       "// Listen for the removal of the full notebook cells\n",
       "var notebookContainer = gd.closest('#notebook-container');\n",
       "if (notebookContainer) {{\n",
       "    x.observe(notebookContainer, {childList: true});\n",
       "}}\n",
       "\n",
       "// Listen for the clearing of the current output cell\n",
       "var outputEl = gd.closest('.output');\n",
       "if (outputEl) {{\n",
       "    x.observe(outputEl, {childList: true});\n",
       "}}\n",
       "\n",
       "                        })                };                });            </script>        </div>"
      ]
     },
     "metadata": {},
     "output_type": "display_data"
    }
   ],
   "source": [
    "import plotly.express as px\n",
    "\n",
    "fig = px.scatter_matrix(summary_df, dimensions=['g', 'T', 'a', 'm', 'i', 'r', 'e', 'max_frac_uncert'],height=1200, width=1200)\n",
    "fig.show()"
   ]
  },
  {
   "cell_type": "code",
   "execution_count": null,
   "metadata": {},
   "outputs": [],
   "source": []
  }
 ],
 "metadata": {
  "kernelspec": {
   "display_name": "base",
   "language": "python",
   "name": "python3"
  },
  "language_info": {
   "codemirror_mode": {
    "name": "ipython",
    "version": 3
   },
   "file_extension": ".py",
   "mimetype": "text/x-python",
   "name": "python",
   "nbconvert_exporter": "python",
   "pygments_lexer": "ipython3",
   "version": "3.9.12"
  }
 },
 "nbformat": 4,
 "nbformat_minor": 2
}
